{
 "cells": [
  {
   "cell_type": "markdown",
   "metadata": {},
   "source": [
    "# Capstone Project: Picking a location for setting up Asia Fine Dining Restaurant\n",
    "\n",
    "---\n",
    "\n",
    "## 1. Introduction\n",
    "\n",
    "Client is a Asian restaurant group and aims to extent their Asian fine dining restaurant to North America and they aimes to open their first restaurants in either Toronto or New York.\n",
    "\n",
    "Therefore, we are engaged to provide recommendation for a good location to them for beginning their business. \n",
    "\n",
    "They have provided several conditions for picking the location:\n",
    "1.\tIt should be a prime location, where it is popular to the crowd.\n",
    "2.\tThere should be good restaurants surrounding, so that people could recognize it is a good dining area.\n",
    "3.\tIt is preferred to avoid any similar kind of restaurant (i.e. Asian fine dining) around the area.\n",
    "\n",
    "## 2. Methodology / Data\n",
    "\n",
    "In order to pick the good spot for the client, we mainly relied on the location data provided by Four Square. Specifically, we would obtain the venue information from different districts across Toronto and New York and make comparison. \n",
    "\n",
    "We would also leverage the like counts of each venue and the number of client list referencing them to determine the popularity of the location. And we will also use the category information of venue to fulfill the other two conditions (i.e. to identify good restaurants and similar kind of restaurants).\n"
   ]
  },
  {
   "cell_type": "markdown",
   "metadata": {},
   "source": []
  }
 ],
 "metadata": {
  "kernelspec": {
   "display_name": "Python 3",
   "language": "python",
   "name": "python3"
  },
  "language_info": {
   "codemirror_mode": {
    "name": "ipython",
    "version": 3
   },
   "file_extension": ".py",
   "mimetype": "text/x-python",
   "name": "python",
   "nbconvert_exporter": "python",
   "pygments_lexer": "ipython3",
   "version": "3.7.1"
  }
 },
 "nbformat": 4,
 "nbformat_minor": 4
}
