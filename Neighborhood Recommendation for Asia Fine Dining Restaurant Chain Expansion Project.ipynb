{
 "cells": [
  {
   "cell_type": "markdown",
   "metadata": {},
   "source": [
    "![title](img/picture2.png)"
   ]
  },
  {
   "cell_type": "markdown",
   "metadata": {},
   "source": [
    "# Capstone Project: \n",
    "# Neighborhood Recommendation for Asia Fine Dining Restaurant Chain Expansion Project"
   ]
  },
  {
   "cell_type": "markdown",
   "metadata": {},
   "source": [
    "## 1. Background\n",
    "\n",
    "Client is an Asian restaurant group specialized in Chinese cuisine. Originated from Mainland China, it already has extended footprints around East Asia and earned its reputation on its artistic and fine dining experience. With a lot of tourists visiting them from oversea, it is decided to further expand their chain to North America. Client decided to pick a location among New York or Toronto, considered they are one of the most alive and populous cities in North America. They aim to have this flag ship restaurant to boost up their reputation further."
   ]
  },
  {
   "cell_type": "markdown",
   "metadata": {},
   "source": [
    "## 2. Introduction\n",
    "\n",
    "We are engaged by the Client for applying Data Science approach to identify the best neighborhood for establishing this flag ship restaurant. With the business goal established, they further illustrate their specific criteria what’s “their best neighborhood”:\n",
    "1.\tIt should be a prime location, where it is popular to the crowd.\n",
    "2.\tIt should have many good restaurants surrounding, so that people could recognize it is a good dining area.\n",
    "3.\tIt is preferred to avoid any similar kind of restaurant (i.e. Asian fine dining) around the area.\n",
    "\n",
    "Therefore, we are going to focus on these criteria to develop our recommendation. "
   ]
  },
  {
   "cell_type": "markdown",
   "metadata": {},
   "source": [
    "## 3. Data\n",
    "\n",
    "To recommend the best neighborhood, we would need the following data. \n",
    "\n",
    "First, we would need to identify all the relevant neighborhoods for comparsion.\n",
    "- __New York__ <br>It is based on Wikipedia page: _Neighborhoods in New York City_ < https://en.wikipedia.org/wiki/Neighborhoods_in_New_York_City > \n",
    "\n",
    "- __Toronto__ <br> It is based on the Toronto City Government Website: _Neighbourhood Profiles_ <\n",
    "https://www.toronto.ca/city-government/data-research-maps/neighbourhoods-communities/neighbourhood-profiles/ >\n",
    "\n",
    "Second, we would further obtain data about location information of all relevant neighborhoods in order to make comparison. For location information, we rely on the Four Square to source the relevant data. Four Square could provide the following:\n",
    "\n",
    "1.\tThe list of venues within particular neighborhood\n",
    "2.\tThe list of venues among particular category\n",
    "3.\tFor each venue, the following information would be provided:\n",
    "    - Location (i.e. Latitude, Longitude) \n",
    "    - Category of venue\n",
    "    - How many users like it\n",
    "    - How many lists included such venue\n"
   ]
  }
 ],
 "metadata": {
  "kernelspec": {
   "display_name": "Python 3",
   "language": "python",
   "name": "python3"
  },
  "language_info": {
   "codemirror_mode": {
    "name": "ipython",
    "version": 3
   },
   "file_extension": ".py",
   "mimetype": "text/x-python",
   "name": "python",
   "nbconvert_exporter": "python",
   "pygments_lexer": "ipython3",
   "version": "3.7.1"
  }
 },
 "nbformat": 4,
 "nbformat_minor": 4
}
