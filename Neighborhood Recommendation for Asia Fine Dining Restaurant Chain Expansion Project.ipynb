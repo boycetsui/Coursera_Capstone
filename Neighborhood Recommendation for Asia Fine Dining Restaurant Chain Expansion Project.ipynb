{
 "cells": [
  {
   "cell_type": "markdown",
   "metadata": {},
   "source": [
    "![title](img/picture2.png)"
   ]
  },
  {
   "cell_type": "markdown",
   "metadata": {},
   "source": [
    "# Capstone Project: \n",
    "# Neighborhood Recommendation for Asia Fine Dining Restaurant Chain Expansion Project"
   ]
  },
  {
   "cell_type": "markdown",
   "metadata": {},
   "source": [
    "## 1. Background\n",
    "\n",
    "Client is an Asian restaurant group specialized in Chinese cuisine. Originated from Mainland China, it already has extended footprints around East Asia and earned its reputation on its artistic and fine dining experience. With a lot of tourists visiting them from oversea, it is decided to further expand their chain to North America. Client decided to pick a location among New York or Toronto, considered they are one of the most alive and populous cities in North America. They aim to have this flag ship restaurant to boost up their reputation further."
   ]
  },
  {
   "cell_type": "markdown",
   "metadata": {},
   "source": [
    "## 2. Introduction\n",
    "\n",
    "We are engaged by the Client for this project. __The Sponsor of this project from this Asian Restaurant Group would be the Target Audience.__\n",
    "\n",
    "By adopting an appropriate Data Science methodology, we are going to recommend the best neighborhood among New York and Toronto for establishing this flag ship restaurant based on the data analysis conducted. \n",
    "\n",
    "With the business goal established, client has further illustrated their  criteria on what’s “the best neighborhood”:\n",
    "1.\tIt should be a prime location, where it is popular to the crowd.\n",
    "2.\tIt should have many good restaurants surrounding, so that people could recognize it is a good dining area.\n",
    "3.\tIt is preferred to avoid any similar kind of restaurant (i.e. Asian fine dining) around the area.\n",
    "\n",
    "Therefore, we are going to focus on these criteria to develop our recommendation."
   ]
  },
  {
   "cell_type": "markdown",
   "metadata": {},
   "source": [
    "## 3. Data\n",
    "\n",
    "To recommend the best neighborhood, we would need the following data. \n",
    "\n",
    "First, we would need to identify all the relevant neighborhoods for comparsion.\n",
    "- __New York__ <br>It is based on Wikipedia page: _Neighborhoods in New York City_ < https://en.wikipedia.org/wiki/Neighborhoods_in_New_York_City > \n",
    "- __Toronto__ <br> It is based on the Toronto City Government Website: _Neighbourhood Profiles_ <\n",
    "https://www.toronto.ca/city-government/data-research-maps/neighbourhoods-communities/neighbourhood-profiles/ >\n",
    "\n",
    "Based on the two sources above, there are going to be 319 hoods in New York and 140 hoods in Toronto.\n",
    "\n",
    "Second, we would further obtain data about location information of all relevant neighborhoods in order to make comparison. For location information, we rely on the Four Square to source the relevant data. Four Square could provide the following:\n",
    "\n",
    "1.\tThe list of venues within particular neighborhood\n",
    "2.\tThe list of venues among particular category\n",
    "\n",
    "    _For example, after inputting the latitude & the longitude of hoods, FourSquare would provide the following:_<br>\n",
    "\n",
    "<table>\n",
    "<thead>\n",
    "  <tr>\n",
    "    <th></th>\n",
    "    <th>Venue ID</th>\n",
    "    <th>Venue Name</th>\n",
    "    <th>Latitude</th>\n",
    "    <th>Longitude</th>\n",
    "    <th>Categories</th>\n",
    "  </tr>\n",
    "</thead>\n",
    "<tbody>\n",
    "  <tr>\n",
    "    <td>1</td>\n",
    "    <td>xxxxxxx</td>\n",
    "    <td>ABC Bakery</td>\n",
    "    <td>43.651070</td>\n",
    "    <td>-79.347015</td>\n",
    "    <td>Bakery</td>\n",
    "  </tr>\n",
    "  <tr>\n",
    "    <td>2</td>\n",
    "    <td>xxxxxxx</td>\n",
    "    <td>Mr. Purple</td>\n",
    "    <td>40.721737</td>\n",
    "    <td>-73.988006</td>\n",
    "    <td>Hotel Bar</td>\n",
    "  </tr>\n",
    "  <tr>\n",
    "    <td>3</td>\n",
    "    <td>...</td>\n",
    "    <td>...</td>\n",
    "    <td>...</td>\n",
    "    <td>...</td>\n",
    "    <td>...</td>\n",
    "  </tr>\n",
    "</tbody>\n",
    "</table>\n",
    "        \n",
    "3.\tFor each venue, the following information would be provided:\n",
    "    - Location (i.e. Latitude, Longitude) \n",
    "    - Category of venue\n",
    "    - How many users like it\n",
    "    - How many lists included such venue\n",
    "\n",
    "<table><thead><tr><th></th><th>Venue ID</th><th>Venue Name</th><th>Latitude</th><th>Longitude</th><th>Categories</th><th>Like count</th><th>No. of List included</th></tr></thead><tbody><tr><td>1</td><td>xxxxxxx</td><td>ABC Bakery</td><td>43.651070</td><td>-79.347015</td><td>Bakery</td><td>100</td><td>10</td></tr><tr><td>2</td><td>xxxxxxx</td><td>Mr. Purple</td><td>40.721737</td><td>-73.988006</td><td>Hotel Bar</td><td>200</td><td>20</td></tr><tr><td>3</td><td>...</td><td>...</td><td>...</td><td>...</td><td>...</td><td>...</td><td>...</td></tr></tbody></table>\n",
    "    \n",
    "    \n"
   ]
  },
  {
   "cell_type": "code",
   "execution_count": null,
   "metadata": {},
   "outputs": [],
   "source": []
  }
 ],
 "metadata": {
  "kernelspec": {
   "display_name": "Python 3",
   "language": "python",
   "name": "python3"
  },
  "language_info": {
   "codemirror_mode": {
    "name": "ipython",
    "version": 3
   },
   "file_extension": ".py",
   "mimetype": "text/x-python",
   "name": "python",
   "nbconvert_exporter": "python",
   "pygments_lexer": "ipython3",
   "version": "3.7.1"
  }
 },
 "nbformat": 4,
 "nbformat_minor": 4
}
